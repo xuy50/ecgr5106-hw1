{
 "cells": [
  {
   "cell_type": "code",
   "id": "initial_id",
   "metadata": {
    "collapsed": true,
    "ExecuteTime": {
     "end_time": "2025-01-30T08:50:40.539785Z",
     "start_time": "2025-01-30T08:50:40.519760Z"
    }
   },
   "source": [
    "import os\n",
    "import pandas as pd\n",
    "import numpy as np\n",
    "import random\n",
    "import torch\n",
    "import torch.nn as nn\n",
    "import torch.optim as optim\n",
    "from torch.utils.data import TensorDataset, DataLoader, random_split\n",
    "import matplotlib.pyplot as plt\n",
    "import seaborn as sns\n",
    "from sklearn.preprocessing import StandardScaler\n",
    "from sklearn.metrics import r2_score, mean_absolute_error, mean_squared_error\n",
    "\n",
    "# Set Random Seed and Device Configuration\n",
    "# Set random seed for reproducibility\n",
    "random_seed = 42\n",
    "random.seed(random_seed)\n",
    "torch.manual_seed(random_seed)\n",
    "\n",
    "if torch.cuda.is_available():\n",
    "    device = torch.device(\"cuda\")\n",
    "    num_gpus = torch.cuda.device_count()\n",
    "    print(f\"Using CUDA (GPU) Available GPUs: {num_gpus}\")\n",
    "    \n",
    "    # 显示所有可用 GPU 设备信息\n",
    "    for i in range(num_gpus):\n",
    "        print(f\"GPU {i}: {torch.cuda.get_device_name(i)}\")\n",
    "else:\n",
    "    device = torch.device(\"cpu\")\n",
    "    print(\"Using CPU (No GPU detected)\")\n",
    "\n",
    "# 显示最终选择的设备\n",
    "print(f\"Running on device: {device}\")"
   ],
   "outputs": [
    {
     "name": "stdout",
     "output_type": "stream",
     "text": [
      "Using CUDA (GPU) Available GPUs: 1\n",
      "GPU 0: NVIDIA GeForce RTX 4080 SUPER\n",
      "Running on device: cuda\n"
     ]
    }
   ],
   "execution_count": 13
  },
  {
   "metadata": {
    "ExecuteTime": {
     "end_time": "2025-01-30T08:50:40.713758Z",
     "start_time": "2025-01-30T08:50:40.699756Z"
    }
   },
   "cell_type": "code",
   "source": [
    "df = pd.read_csv('./datasets/Housing.csv')\n",
    "print(df.head())"
   ],
   "id": "cc3942d850b3624b",
   "outputs": [
    {
     "name": "stdout",
     "output_type": "stream",
     "text": [
      "      price  area  bedrooms  bathrooms  stories mainroad guestroom basement  \\\n",
      "0  13300000  7420         4          2        3      yes        no       no   \n",
      "1  12250000  8960         4          4        4      yes        no       no   \n",
      "2  12250000  9960         3          2        2      yes        no      yes   \n",
      "3  12215000  7500         4          2        2      yes        no      yes   \n",
      "4  11410000  7420         4          1        2      yes       yes      yes   \n",
      "\n",
      "  hotwaterheating airconditioning  parking prefarea furnishingstatus  \n",
      "0              no             yes        2      yes        furnished  \n",
      "1              no             yes        3       no        furnished  \n",
      "2              no              no        2      yes   semi-furnished  \n",
      "3              no             yes        3      yes        furnished  \n",
      "4              no             yes        2       no        furnished  \n"
     ]
    }
   ],
   "execution_count": 14
  },
  {
   "metadata": {
    "ExecuteTime": {
     "end_time": "2025-01-30T08:50:40.761757Z",
     "start_time": "2025-01-30T08:50:40.743756Z"
    }
   },
   "cell_type": "code",
   "source": [
    "# 列表: mainroad, guestroom, basement, hotwaterheating, airconditioning, prefarea => yes/no\n",
    "yesno_cols = [\"mainroad\",\"guestroom\",\"basement\",\"hotwaterheating\",\"airconditioning\",\"prefarea\"]\n",
    "for c in yesno_cols:\n",
    "    df[c] = df[c].map({'yes': 1, 'no': 0})\n",
    "\n",
    "# 列表: furnishingstatus => 有三种: furnished / semi-furnished / unfurnished\n",
    "status_map = {'furnished': 2, 'semi-furnished': 1, 'unfurnished': 0}\n",
    "df['furnishingstatus'] = df['furnishingstatus'].map(status_map)\n",
    "\n",
    "# df['price'] = df['price'] / 1e4\n",
    "# df['price'] = df['price'] / 1e5\n",
    "# df['price'] = df['price'] / 1e6\n",
    "\n",
    "price_scaler = StandardScaler()\n",
    "df['price'] = price_scaler.fit_transform(df[['price']])\n",
    "\n",
    "# **标准化 X 特征数据**\n",
    "scaler = StandardScaler()\n",
    "\n",
    "# 只对 `area` 特征进行标准化\n",
    "df['area'] = scaler.fit_transform(df[['area']])  # 归一化特征\n",
    "\n",
    "print(\"After conversion:\\n\", df.head())"
   ],
   "id": "27df457a08f26c11",
   "outputs": [
    {
     "name": "stdout",
     "output_type": "stream",
     "text": [
      "After conversion:\n",
      "       price      area  bedrooms  bathrooms  stories  mainroad  guestroom  \\\n",
      "0  4.566365  1.046726         4          2        3         1          0   \n",
      "1  4.004484  1.757010         4          4        4         1          0   \n",
      "2  4.004484  2.218232         3          2        2         1          0   \n",
      "3  3.985755  1.083624         4          2        2         1          0   \n",
      "4  3.554979  1.046726         4          1        2         1          1   \n",
      "\n",
      "   basement  hotwaterheating  airconditioning  parking  prefarea  \\\n",
      "0         0                0                1        2         1   \n",
      "1         0                0                1        3         0   \n",
      "2         1                0                0        2         1   \n",
      "3         1                0                1        3         1   \n",
      "4         1                0                1        2         0   \n",
      "\n",
      "   furnishingstatus  \n",
      "0                 2  \n",
      "1                 2  \n",
      "2                 1  \n",
      "3                 2  \n",
      "4                 2  \n"
     ]
    }
   ],
   "execution_count": 15
  },
  {
   "metadata": {
    "ExecuteTime": {
     "end_time": "2025-01-30T08:50:40.825756Z",
     "start_time": "2025-01-30T08:50:40.811756Z"
    }
   },
   "cell_type": "code",
   "source": [
    "# X: features, y: target\n",
    "y = df['price'].values.astype(np.float32)\n",
    "X = df.drop(columns=['price']).values.astype(np.float32)\n",
    "\n",
    "print(\"Feature shape:\", X.shape)\n",
    "print(\"Target shape:\", y.shape)\n",
    "\n",
    "# 转为 PyTorch Tensor\n",
    "X_tensor = torch.from_numpy(X)\n",
    "y_tensor = torch.from_numpy(y).view(-1, 1)  # (N,) => (N,1) for regression\n",
    "\n",
    "dataset = TensorDataset(X_tensor, y_tensor)\n",
    "\n",
    "# 80/20 split\n",
    "total_size = len(dataset)\n",
    "train_size = int(0.8 * total_size)\n",
    "val_size = total_size - train_size\n",
    "\n",
    "train_ds, val_ds = random_split(dataset, [train_size, val_size])\n",
    "print(f\"Total samples = {total_size}, train = {train_size}, val = {val_size}\")\n",
    "\n",
    "# DataLoader\n",
    "batch_size = 64\n",
    "train_loader = DataLoader(train_ds, batch_size=batch_size, shuffle=True)\n",
    "val_loader   = DataLoader(val_ds, batch_size=batch_size, shuffle=False)\n"
   ],
   "id": "c4aa376c76b1cae7",
   "outputs": [
    {
     "name": "stdout",
     "output_type": "stream",
     "text": [
      "Feature shape: (545, 12)\n",
      "Target shape: (545,)\n",
      "Total samples = 545, train = 436, val = 109\n"
     ]
    }
   ],
   "execution_count": 16
  },
  {
   "metadata": {
    "ExecuteTime": {
     "end_time": "2025-01-30T08:50:40.887786Z",
     "start_time": "2025-01-30T08:50:40.873756Z"
    }
   },
   "cell_type": "code",
   "source": [
    "class HousingMLP(nn.Module):\n",
    "    def __init__(self, input_dim, hidden_dims=[128, 64, 32], output_dim=1):\n",
    "        super(HousingMLP, self).__init__()\n",
    "        layers = []\n",
    "        prev_dim = input_dim\n",
    "        for h in hidden_dims:\n",
    "            layers.append(nn.Linear(prev_dim, h))\n",
    "            layers.append(nn.ReLU())\n",
    "            # layers.append(nn.Dropout(0.1))\n",
    "            prev_dim = h\n",
    "        layers.append(nn.Linear(prev_dim, output_dim))\n",
    "        self.model = nn.Sequential(*layers)\n",
    "        \n",
    "    def forward(self, x):\n",
    "        return self.model(x)"
   ],
   "id": "e041da653e92fa46",
   "outputs": [],
   "execution_count": 17
  },
  {
   "metadata": {
    "ExecuteTime": {
     "end_time": "2025-01-30T08:50:40.949787Z",
     "start_time": "2025-01-30T08:50:40.934758Z"
    }
   },
   "cell_type": "code",
   "source": [
    "def train_regression_epoch(model, loader, optimizer, criterion):\n",
    "    model.train()\n",
    "    total_loss = 0.0\n",
    "    total_samples = 0\n",
    "    \n",
    "    for Xb, yb in loader:\n",
    "        Xb, yb = Xb.to(device), yb.to(device)\n",
    "        \n",
    "        optimizer.zero_grad()\n",
    "        preds = model(Xb)\n",
    "        loss = criterion(preds, yb)\n",
    "        loss.backward()\n",
    "        optimizer.step()\n",
    "        \n",
    "        batch_sz = Xb.size(0)\n",
    "        total_loss += loss.item() * batch_sz\n",
    "        total_samples += batch_sz\n",
    "    \n",
    "    avg_loss = total_loss / total_samples\n",
    "    return avg_loss"
   ],
   "id": "6f692e4fef079584",
   "outputs": [],
   "execution_count": 18
  },
  {
   "metadata": {
    "ExecuteTime": {
     "end_time": "2025-01-30T08:50:41.011756Z",
     "start_time": "2025-01-30T08:50:40.998756Z"
    }
   },
   "cell_type": "code",
   "source": [
    "def train_regression_epoch_r2(model, loader, criterion):\n",
    "    model.eval()\n",
    "    total_loss = 0.0\n",
    "    total_samples = 0\n",
    "    \n",
    "    # 如果想算R²等，可以先收集预测和label\n",
    "    preds_list = []\n",
    "    labels_list = []\n",
    "    \n",
    "    with torch.no_grad():\n",
    "        for Xb, yb in loader:\n",
    "            Xb, yb = Xb.to(device), yb.to(device)\n",
    "            preds = model(Xb)\n",
    "            loss = criterion(preds, yb)\n",
    "            \n",
    "            batch_sz = Xb.size(0)\n",
    "            total_loss += loss.item() * batch_sz\n",
    "            total_samples += batch_sz\n",
    "            \n",
    "            preds_list.append(preds.cpu().numpy())\n",
    "            labels_list.append(yb.cpu().numpy())\n",
    "    \n",
    "    avg_loss = total_loss / total_samples\n",
    "    \n",
    "    # 计算R²\n",
    "    all_preds = np.concatenate(preds_list, axis=0).squeeze()\n",
    "    all_labels = np.concatenate(labels_list, axis=0).squeeze()\n",
    "    r2 = r2_score(all_labels, all_preds)\n",
    "    \n",
    "    return avg_loss, r2"
   ],
   "id": "aef5e2afebe3e237",
   "outputs": [],
   "execution_count": 19
  },
  {
   "metadata": {
    "ExecuteTime": {
     "end_time": "2025-01-30T08:50:41.059756Z",
     "start_time": "2025-01-30T08:50:41.045757Z"
    }
   },
   "cell_type": "code",
   "source": [
    "def train_model(model, train_loader, val_loader, num_epochs=50, lr=1e-3):\n",
    "    criterion = nn.MSELoss()\n",
    "    optimizer = optim.Adam(model.parameters(), lr=lr)\n",
    "    \n",
    "    train_losses, val_losses = [], []\n",
    "    val_r2_list = []\n",
    "    \n",
    "    for epoch in range(num_epochs):\n",
    "        # 训练\n",
    "        train_loss = train_regression_epoch(model, train_loader, optimizer, criterion)\n",
    "        \n",
    "        # 验证\n",
    "        val_loss, val_r2 = train_regression_epoch_r2(model, val_loader, criterion)\n",
    "        \n",
    "        train_losses.append(train_loss)\n",
    "        val_losses.append(val_loss)\n",
    "        val_r2_list.append(val_r2)\n",
    "        \n",
    "        print(f\"Epoch [{epoch+1}/{num_epochs}], \"\n",
    "              f\"Train MSE: {train_loss:.2f}, Val MSE: {val_loss:.2f}, Val R²: {val_r2:.2f}\")\n",
    "    \n",
    "    return train_losses, val_losses, val_r2_list"
   ],
   "id": "8696e259ea28811d",
   "outputs": [],
   "execution_count": 20
  },
  {
   "metadata": {
    "ExecuteTime": {
     "end_time": "2025-01-30T08:50:42.452758Z",
     "start_time": "2025-01-30T08:50:41.092759Z"
    }
   },
   "cell_type": "code",
   "source": [
    "input_dim = X.shape[1]\n",
    "hidden_dims=[64, 32]\n",
    "# hidden_dims=[128, 64, 32]\n",
    "model = HousingMLP(input_dim=input_dim, hidden_dims=hidden_dims, output_dim=1).to(device)\n",
    "\n",
    "# num_epochs = 20\n",
    "# num_epochs = 50\n",
    "num_epochs = 60\n",
    "# num_epochs = 80\n",
    "# num_epochs = 100\n",
    "lr = 0.001\n",
    "train_losses, val_losses, val_r2_list = train_model(\n",
    "    model, train_loader, val_loader, num_epochs=num_epochs, lr=lr\n",
    ")"
   ],
   "id": "ba5201b1a052dd24",
   "outputs": [
    {
     "name": "stdout",
     "output_type": "stream",
     "text": [
      "Epoch [1/60], Train MSE: 0.99, Val MSE: 0.73, Val R²: 0.10\n",
      "Epoch [2/60], Train MSE: 0.91, Val MSE: 0.68, Val R²: 0.15\n",
      "Epoch [3/60], Train MSE: 0.85, Val MSE: 0.64, Val R²: 0.20\n",
      "Epoch [4/60], Train MSE: 0.79, Val MSE: 0.60, Val R²: 0.26\n",
      "Epoch [5/60], Train MSE: 0.71, Val MSE: 0.56, Val R²: 0.31\n",
      "Epoch [6/60], Train MSE: 0.64, Val MSE: 0.52, Val R²: 0.35\n",
      "Epoch [7/60], Train MSE: 0.56, Val MSE: 0.50, Val R²: 0.38\n",
      "Epoch [8/60], Train MSE: 0.50, Val MSE: 0.49, Val R²: 0.39\n",
      "Epoch [9/60], Train MSE: 0.47, Val MSE: 0.48, Val R²: 0.40\n",
      "Epoch [10/60], Train MSE: 0.44, Val MSE: 0.48, Val R²: 0.41\n",
      "Epoch [11/60], Train MSE: 0.42, Val MSE: 0.46, Val R²: 0.43\n",
      "Epoch [12/60], Train MSE: 0.41, Val MSE: 0.43, Val R²: 0.47\n",
      "Epoch [13/60], Train MSE: 0.39, Val MSE: 0.40, Val R²: 0.50\n",
      "Epoch [14/60], Train MSE: 0.38, Val MSE: 0.39, Val R²: 0.52\n",
      "Epoch [15/60], Train MSE: 0.37, Val MSE: 0.38, Val R²: 0.53\n",
      "Epoch [16/60], Train MSE: 0.36, Val MSE: 0.37, Val R²: 0.54\n",
      "Epoch [17/60], Train MSE: 0.35, Val MSE: 0.36, Val R²: 0.55\n",
      "Epoch [18/60], Train MSE: 0.34, Val MSE: 0.36, Val R²: 0.56\n",
      "Epoch [19/60], Train MSE: 0.35, Val MSE: 0.35, Val R²: 0.57\n",
      "Epoch [20/60], Train MSE: 0.33, Val MSE: 0.34, Val R²: 0.58\n",
      "Epoch [21/60], Train MSE: 0.33, Val MSE: 0.34, Val R²: 0.58\n",
      "Epoch [22/60], Train MSE: 0.32, Val MSE: 0.33, Val R²: 0.59\n",
      "Epoch [23/60], Train MSE: 0.32, Val MSE: 0.33, Val R²: 0.59\n",
      "Epoch [24/60], Train MSE: 0.32, Val MSE: 0.33, Val R²: 0.60\n",
      "Epoch [25/60], Train MSE: 0.32, Val MSE: 0.32, Val R²: 0.60\n",
      "Epoch [26/60], Train MSE: 0.31, Val MSE: 0.33, Val R²: 0.60\n",
      "Epoch [27/60], Train MSE: 0.31, Val MSE: 0.32, Val R²: 0.60\n",
      "Epoch [28/60], Train MSE: 0.30, Val MSE: 0.32, Val R²: 0.60\n",
      "Epoch [29/60], Train MSE: 0.30, Val MSE: 0.32, Val R²: 0.61\n",
      "Epoch [30/60], Train MSE: 0.30, Val MSE: 0.31, Val R²: 0.62\n",
      "Epoch [31/60], Train MSE: 0.29, Val MSE: 0.31, Val R²: 0.62\n",
      "Epoch [32/60], Train MSE: 0.30, Val MSE: 0.31, Val R²: 0.61\n",
      "Epoch [33/60], Train MSE: 0.30, Val MSE: 0.31, Val R²: 0.62\n",
      "Epoch [34/60], Train MSE: 0.29, Val MSE: 0.31, Val R²: 0.61\n",
      "Epoch [35/60], Train MSE: 0.29, Val MSE: 0.31, Val R²: 0.62\n",
      "Epoch [36/60], Train MSE: 0.28, Val MSE: 0.31, Val R²: 0.62\n",
      "Epoch [37/60], Train MSE: 0.29, Val MSE: 0.30, Val R²: 0.63\n",
      "Epoch [38/60], Train MSE: 0.28, Val MSE: 0.30, Val R²: 0.63\n",
      "Epoch [39/60], Train MSE: 0.28, Val MSE: 0.30, Val R²: 0.62\n",
      "Epoch [40/60], Train MSE: 0.27, Val MSE: 0.30, Val R²: 0.62\n",
      "Epoch [41/60], Train MSE: 0.28, Val MSE: 0.31, Val R²: 0.62\n",
      "Epoch [42/60], Train MSE: 0.27, Val MSE: 0.30, Val R²: 0.63\n",
      "Epoch [43/60], Train MSE: 0.27, Val MSE: 0.29, Val R²: 0.64\n",
      "Epoch [44/60], Train MSE: 0.27, Val MSE: 0.30, Val R²: 0.63\n",
      "Epoch [45/60], Train MSE: 0.27, Val MSE: 0.29, Val R²: 0.64\n",
      "Epoch [46/60], Train MSE: 0.26, Val MSE: 0.30, Val R²: 0.63\n",
      "Epoch [47/60], Train MSE: 0.26, Val MSE: 0.30, Val R²: 0.63\n",
      "Epoch [48/60], Train MSE: 0.26, Val MSE: 0.30, Val R²: 0.63\n",
      "Epoch [49/60], Train MSE: 0.26, Val MSE: 0.29, Val R²: 0.64\n",
      "Epoch [50/60], Train MSE: 0.26, Val MSE: 0.29, Val R²: 0.64\n",
      "Epoch [51/60], Train MSE: 0.25, Val MSE: 0.29, Val R²: 0.64\n",
      "Epoch [52/60], Train MSE: 0.26, Val MSE: 0.29, Val R²: 0.64\n",
      "Epoch [53/60], Train MSE: 0.25, Val MSE: 0.29, Val R²: 0.64\n",
      "Epoch [54/60], Train MSE: 0.25, Val MSE: 0.29, Val R²: 0.64\n",
      "Epoch [55/60], Train MSE: 0.25, Val MSE: 0.29, Val R²: 0.64\n",
      "Epoch [56/60], Train MSE: 0.25, Val MSE: 0.29, Val R²: 0.64\n",
      "Epoch [57/60], Train MSE: 0.25, Val MSE: 0.29, Val R²: 0.64\n",
      "Epoch [58/60], Train MSE: 0.25, Val MSE: 0.29, Val R²: 0.64\n",
      "Epoch [59/60], Train MSE: 0.25, Val MSE: 0.29, Val R²: 0.64\n",
      "Epoch [60/60], Train MSE: 0.25, Val MSE: 0.29, Val R²: 0.64\n"
     ]
    }
   ],
   "execution_count": 21
  },
  {
   "metadata": {
    "ExecuteTime": {
     "end_time": "2025-01-30T08:50:42.911758Z",
     "start_time": "2025-01-30T08:50:42.485758Z"
    }
   },
   "cell_type": "code",
   "source": [
    "# Plot Loss vs. Epoch\n",
    "plt.figure(figsize=(12,5))\n",
    "\n",
    "plt.subplot(1,2,1)\n",
    "plt.plot(range(1, num_epochs+1), train_losses, label='Train MSE')\n",
    "plt.plot(range(1, num_epochs+1), val_losses, label='Val MSE')\n",
    "plt.xlabel('Epoch')\n",
    "plt.ylabel('MSE')\n",
    "plt.title('Train & Val Loss')\n",
    "plt.legend()\n",
    "\n",
    "plt.subplot(1,2,2)\n",
    "plt.plot(range(1, num_epochs+1), val_r2_list, label='Val R²', color='green', marker='o')\n",
    "plt.xlabel('Epoch')\n",
    "plt.ylabel('R²')\n",
    "plt.title('Validation R² over Epochs')\n",
    "plt.legend()\n",
    "\n",
    "plt.tight_layout()\n",
    "plt.show()"
   ],
   "id": "2c8527b7975260d2",
   "outputs": [
    {
     "data": {
      "text/plain": [
       "<Figure size 1200x500 with 2 Axes>"
      ],
      "image/png": "[encoded data removed]"
     },
     "metadata": {},
     "output_type": "display_data"
    }
   ],
   "execution_count": 22
  },
  {
   "metadata": {
    "ExecuteTime": {
     "end_time": "2025-01-30T08:50:42.974771Z",
     "start_time": "2025-01-30T08:50:42.959757Z"
    }
   },
   "cell_type": "code",
   "source": [
    "model.eval()\n",
    "all_preds = []\n",
    "all_targets = []\n",
    "\n",
    "with torch.no_grad():\n",
    "    for Xv, yv in val_loader:\n",
    "        preds_v = model(Xv.to(device))\n",
    "        all_preds.append(preds_v.cpu().numpy())\n",
    "        all_targets.append(yv.cpu().numpy())\n",
    "\n",
    "all_preds = np.concatenate(all_preds).squeeze()\n",
    "all_targets = np.concatenate(all_targets).squeeze()\n",
    "\n",
    "mse_val = mean_squared_error(all_targets, all_preds)\n",
    "mae_val = mean_absolute_error(all_targets, all_preds)\n",
    "r2_val = r2_score(all_targets, all_preds)\n",
    "\n",
    "print(f\"Final on Val => MSE: {mse_val:.2f}, MAE: {mae_val:.2f}, R²: {r2_val:.2f}\")\n",
    "\n",
    "# 模型复杂度\n",
    "total_params = sum(p.numel() for p in model.parameters() if p.requires_grad)\n",
    "print(\"Model Complexity:\")\n",
    "print(f\" - Hidden layers: {hidden_dims}\")\n",
    "print(f\" - Total trainable parameters: {total_params}\")"
   ],
   "id": "66f9cf4f6f185cec",
   "outputs": [
    {
     "name": "stdout",
     "output_type": "stream",
     "text": [
      "Final on Val => MSE: 0.29, MAE: 0.41, R²: 0.64\n",
      "Model Complexity:\n",
      " - Hidden layers: [64, 32]\n",
      " - Total trainable parameters: 2945\n"
     ]
    }
   ],
   "execution_count": 23
  }
 ],
 "metadata": {
  "kernelspec": {
   "display_name": "Python 3",
   "language": "python",
   "name": "python3"
  },
  "language_info": {
   "codemirror_mode": {
    "name": "ipython",
    "version": 2
   },
   "file_extension": ".py",
   "mimetype": "text/x-python",
   "name": "python",
   "nbconvert_exporter": "python",
   "pygments_lexer": "ipython2",
   "version": "2.7.6"
  }
 },
 "nbformat": 4,
 "nbformat_minor": 5
}
